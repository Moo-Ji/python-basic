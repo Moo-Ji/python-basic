{
 "cells": [
  {
   "cell_type": "code",
   "execution_count": 1,
   "metadata": {
    "collapsed": true
   },
   "outputs": [
    {
     "data": {
      "text/plain": [
       "'\\n기계어(010101) -> 어셈블리언어(단순한 명령어) -> 포트란(수치), 코볼(기업용) ->\\nC 언어 (절차적 언어의 대표) \\n#프로그래밍 언어를 만드는 방식: 절차적 언어 : 기능에 집중\\n예)은행 프로그램 작성시 기능 기준 - 예금, 보험, 대출, 외환, 등으로 세분화. \\n각 업무를 다시 나눔. 예금 업무 - 입금 , 출금, 무통장 입금... \\n더이상 나눌 수 없을 때 까지 기능을 세분화 한 뒤 단위 작업 별로 코드 구현 후 합침\\n장점: 설계하기가 쉽다. 빠르게 만들어 낼 수 있다. = 비용 절감.\\n단점: 정보량이 많아지고, 기능이 변하면서 수정, 변경 어렵다. 유지보수 비용이 더 듬.\\n->객체 지향 방식 (유지보수에 최적화 된 형태로 만들자. 90년대 패러다임의 변화.)\\n현실세계에 해결해야 하는 문제를 프로그래밍으로 모델링\\n기능 대신 해결해야하는 문제를 구성하는 구성 요소를 파악하고 (개체) \\n구성 요소 간의 상호 관계(정보전달관계)를 파악. 객체지향 설계 - 사람마다 관점 다름\\n단점: 설계가 어렵고 오래 걸린다. 비용 상승. \\n장점: (잘 만든다면) 유지보수가 쉽다.\\n개체의 많은 특성 중 필요한 것만 프로그램으로 표현 하는 것 : 추상화.abstraction\\n개체를 프로그램으로 표현하기 위한 객체 모델링의 수단: class\\n새로운 데이터 타입을 만드는 기능도 가지고 있는 :class :ADT(Abstract data type)\\nclass의 기능 캡슐화 encapsulation: 관련 있는 특성(field)과 기능(method)을 묶음\\n'"
      ]
     },
     "execution_count": 1,
     "metadata": {},
     "output_type": "execute_result"
    }
   ],
   "source": [
    "\"\"\"\n",
    "기계어(010101) -> 어셈블리언어(단순한 명령어) -> 포트란(수치), 코볼(기업용) ->\n",
    "C 언어 (절차적 언어의 대표) \n",
    "#프로그래밍 언어를 만드는 방식: 절차적 언어 : 기능에 집중\n",
    "예)은행 프로그램 작성시 기능 기준 - 예금, 보험, 대출, 외환, 등으로 세분화. \n",
    "각 업무를 다시 나눔. 예금 업무 - 입금 , 출금, 무통장 입금... \n",
    "더이상 나눌 수 없을 때 까지 기능을 세분화 한 뒤 단위 작업 별로 코드 구현 후 합침\n",
    "장점: 설계하기가 쉽다. 빠르게 만들어 낼 수 있다. = 비용 절감.\n",
    "단점: 정보량이 많아지고, 기능이 변하면서 수정, 변경 어렵다. 유지보수 비용이 더 듬.\n",
    "->객체 지향 방식 (유지보수에 최적화 된 형태로 만들자. 90년대 패러다임의 변화.)\n",
    "현실세계에 해결해야 하는 문제를 프로그래밍으로 모델링\n",
    "기능 대신 해결해야하는 문제를 구성하는 구성 요소를 파악하고 (개체) \n",
    "구성 요소 간의 상호 관계(정보전달관계)를 파악. 객체지향 설계 - 사람마다 관점 다름\n",
    "단점: 설계가 어렵고 오래 걸린다. 비용 상승. \n",
    "장점: (잘 만든다면) 유지보수가 쉽다.\n",
    "개체의 많은 특성 중 필요한 것만 프로그램으로 표현 하는 것 : 추상화.abstraction\n",
    "개체를 프로그램으로 표현하기 위한 객체 모델링의 수단: class\n",
    "새로운 데이터 타입을 만드는 기능도 가지고 있는 :class :ADT(Abstract data type)\n",
    "class의 기능 캡슐화 encapsulation: 관련 있는 특성(field)과 기능(method)을 묶음\n",
    "\"\"\""
   ]
  },
  {
   "cell_type": "code",
   "execution_count": 4,
   "metadata": {},
   "outputs": [
    {
     "name": "stdout",
     "output_type": "stream",
     "text": [
      "3.1415\n",
      "30\n"
     ]
    }
   ],
   "source": [
    "#module\n",
    "#python의 변수, 함수, 클래스를 모은 파일. \n",
    "#다른 python program에서 불러다 활용할 수 있다. \n",
    "# import 모듈을 사용할 수 있도록 하는 키워드 형식: import모듈이름(파일명)\n",
    "import module1 as m1 #모듈을 import,  import 모듈이름 as 별명\n",
    "print(m1.PI) #변수를 가져옴. \n",
    "#from 모듈 이름 import 함수, 변수, 클래스 \n",
    "from module1 import my_sum #함수 하나만 import 해당 함수 이름을 바로 사용\n",
    "print(my_sum(10,20))"
   ]
  },
  {
   "cell_type": "code",
   "execution_count": 8,
   "metadata": {},
   "outputs": [
    {
     "name": "stdout",
     "output_type": "stream",
     "text": [
      "['D:\\\\Anaconda3\\\\envs\\\\data_env\\\\python36.zip', 'D:\\\\Anaconda3\\\\envs\\\\data_env\\\\DLLs', 'D:\\\\Anaconda3\\\\envs\\\\data_env\\\\lib', 'D:\\\\Anaconda3\\\\envs\\\\data_env', '', 'D:\\\\Anaconda3\\\\envs\\\\data_env\\\\lib\\\\site-packages', 'D:\\\\Anaconda3\\\\envs\\\\data_env\\\\lib\\\\site-packages\\\\IPython\\\\extensions', 'C:\\\\Users\\\\mooji\\\\.ipython', 'd:/python_lib', 'd:/python_lib', 'D:/python_lib']\n"
     ]
    }
   ],
   "source": [
    "# module을 불러올 수 있는 폴더들이 있다. \n",
    "import sys #내장 모듈\n",
    "sys.path #라이브러리 폴드 보여준다. 이 폴더 안에 python파일이 있어야 불러옴. \n",
    "#list 에 append. \n",
    "sys.path.append('D:/python_lib')\n",
    "print(sys.path)\n",
    "\n",
    "#환경변수 pythonpath를 생성해서 여기에 폴더를 지정해도 모듈을 사용할 폴더가 됨"
   ]
  },
  {
   "cell_type": "code",
   "execution_count": 2,
   "metadata": {},
   "outputs": [
    {
     "name": "stdout",
     "output_type": "stream",
     "text": [
      "300\n",
      "300\n"
     ]
    }
   ],
   "source": [
    "#python module을 관리하기 위한 방안\n",
    "#가장 일반적으로 쉽게 생각할 수 있는 방안 -관련 있는 모듈끼리 폴더로 저장\n",
    "#package : 관련 있는 module을 묶어놓은 논리적인 집합. 폴더로 표현.\n",
    "#옛날에는 __int_.py라는 파일을 폴더 안에 만들어야 했음. 3버전에서는 없어도 됨.\n",
    "#import 할 때 module이 package안에 포함되어 있으면 이름 명시해야 한다. \n",
    "import myPackage.inner.myModule as M\n",
    "\n",
    "print(M.my_variable)\n",
    "\n",
    "from myPackage.inner import myModule # myModule로 앞으로 쓸 수 있다. 표기법.\n",
    "print(myModule.my_variable)"
   ]
  },
  {
   "cell_type": "code",
   "execution_count": null,
   "metadata": {},
   "outputs": [],
   "source": []
  }
 ],
 "metadata": {
  "kernelspec": {
   "display_name": "data_env",
   "language": "python",
   "name": "data_env"
  },
  "language_info": {
   "codemirror_mode": {
    "name": "ipython",
    "version": 3
   },
   "file_extension": ".py",
   "mimetype": "text/x-python",
   "name": "python",
   "nbconvert_exporter": "python",
   "pygments_lexer": "ipython3",
   "version": "3.6.8"
  }
 },
 "nbformat": 4,
 "nbformat_minor": 2
}
