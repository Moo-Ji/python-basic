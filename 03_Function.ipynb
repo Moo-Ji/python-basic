{
 "cells": [
  {
   "cell_type": "code",
   "execution_count": 1,
   "metadata": {},
   "outputs": [
    {
     "name": "stdout",
     "output_type": "stream",
     "text": [
      "30\n"
     ]
    }
   ],
   "source": [
    "# python은 독립적인 함수를 사용자가 정의하여 사용할 수 있다. \n",
    "#함수의 정의 (일반적인 형태)\n",
    "def my_sum(a,b):\n",
    "    result = a+b #함수가 하는 일을 쓴다.\n",
    "    return result\n",
    "\n",
    "print(my_sum(10,20))"
   ]
  },
  {
   "cell_type": "code",
   "execution_count": 2,
   "metadata": {},
   "outputs": [],
   "source": [
    "#아무런 일도 하지 않는 함수를 선언하는 경우\n",
    "def do_nothing():\n",
    "    pass"
   ]
  },
  {
   "cell_type": "code",
   "execution_count": 3,
   "metadata": {},
   "outputs": [],
   "source": [
    "#python함수에는 내장함수와 user define 함수가 있다. "
   ]
  },
  {
   "cell_type": "code",
   "execution_count": 25,
   "metadata": {},
   "outputs": [
    {
     "name": "stdout",
     "output_type": "stream",
     "text": [
      "100\n",
      "True\n",
      "True\n",
      "13\n",
      "2077273194824\n",
      "(3, 1)\n",
      "123\n",
      "10\n",
      "None\n",
      "[2, 3, 4, 5, 7, 9]\n",
      "[2, 3, 4, 5, 7, 9]\n",
      "[7, 4, 5, 9, 2, 3]\n"
     ]
    }
   ],
   "source": [
    "#python의 내장함수\n",
    "#abs(x): x의 절대값을 구하는 함수\n",
    "print(abs(-100))\n",
    "#all(x): 반복 가능한 대상(list, tuple)에 대해 모든 것이 True면 True\n",
    "print(all([1,2,3,4,5])) #0이 들어가면 False\n",
    "#any(x): 반복 가능한 대상에 대해 하나의 True 라도 있으면 True\n",
    "print(any([0, 1, \"\", False, \"Hello World\"]))\n",
    "#eval(x): 문자열로 입력된 수식을 직접 계산\n",
    "print(eval(\"1+3*4\"))\n",
    "#int(x): 입력 값을 정수로 변환시키는 함수\n",
    "#str(x) : 입력 값을 문자열로 변환시키는 함수\n",
    "#len(x):입력 parameter에 대한 길이를 구하는 함수\n",
    "#list(x): list로 만들거나 list로 변환 시키는 함수 인자 없으면 공백 리스트 생성\n",
    "#tuple(x): tuple로 변환시키는 함수. \n",
    "#type(x): x의 데이터 타입을 알아내는 함수. 클래스의 인스턴스를 알아냄. \n",
    "#dir(x): 사용가능한 변수와 함수를 list로 반환시키는 함수\n",
    "#id(x): 입력 객체의 고유 주소(reference)를 반환 \n",
    "print(id(\"Hello\")) #객체가 같은지 확인하는 용도\n",
    "#divmod(a,b): a를 b를 나누어서 몫과 나머지를 tuple로 반환\n",
    "print(divmod(10,3))#앞이 몫 뒤가 나머지\n",
    "#join(): 리스트를 문자열로 변환할 때 많이 이용\n",
    "my_list=[\"1\",\"2\",\"3\"]\n",
    "print(\"\".join(my_list)) #\"\"안의 값을 기준으로. \n",
    "#max(), min(), pow() : 최대값, 최소값, 제곱값\n",
    "print(max([9,5,10]))\n",
    "my_list = [7,4,5,9,2,3]\n",
    "result = my_list.sort()  #리스트가 가진 매서드\n",
    "print(result)#none sort는 반환 값이 없다. \n",
    "print(my_list) #리스트 원본이 변함\n",
    "my_list = [7,4,5,9,2,3]\n",
    "result = sorted(my_list) #내장함수 #결과값을 반환한다. 원본은 변함이 없다. \n",
    "print(result)\n",
    "print(my_list) #리스트 원본이 유지됨. "
   ]
  },
  {
   "cell_type": "code",
   "execution_count": 37,
   "metadata": {},
   "outputs": [
    {
     "name": "stdout",
     "output_type": "stream",
     "text": [
      "300\n",
      "15\n",
      "30 200\n",
      "20\n",
      "10\n",
      "70\n"
     ]
    }
   ],
   "source": [
    "#사용자 정의 함수(user_define function)\n",
    "#1. 가장 일반적인 형태\n",
    "def my_calc(a,b):\n",
    "    result = a + b\n",
    "    return result\n",
    "print(my_calc(100,200))\n",
    "\n",
    "\n",
    "#2. 인자의 개수에 영향을 받지 않도록 지정\n",
    "def my_calc(*args): #*name 받은 인자를 tuple로 관리한다. 여러 값 받을 수 있다\n",
    "    result = 0\n",
    "    for tmp in args:#tuple을 반복\n",
    "        result += tmp\n",
    "    return result\n",
    "    \n",
    "print(my_calc(1,2,3,4,5))\n",
    "\n",
    "#3. python은 튜플로 처리할 때 괄호 생략 가능\n",
    "# (일반적인 표현으로) 두 개 이상의 값을 반환 실제로는 튜플 값 하나로 반환\n",
    "def my_calc(a,b):\n",
    "    result1 = a+b\n",
    "    result2 = a*b\n",
    "    return result1, result2\n",
    "a, b = my_calc(10,20)\n",
    "print(a,b)\n",
    "\n",
    "#4. 맨 마지막 파라미터부터 default 값을 이용할 수 있다. \n",
    "def my_calc(a,b,c=False): #인자에 들어온 값을 이용,, 없으면 False를 이용함\n",
    "    if c:\n",
    "        return a\n",
    "    else:\n",
    "        return b\n",
    "print(my_calc(10,20))\n",
    "print(my_calc(10,20,True))\n",
    "# 이렇게도 가능. 중간에만 들어오는 것은 안됨. def my_calc(a,b=True,c=False):\n",
    "\n",
    "#5. 외부 변수를 사용할 수 있다. \n",
    "result = 0 #밖에 쓰면 변수 저장 공간 자체가 다르게 나온다. 에러. \n",
    "#result값이 초기화가 되지 않은 상태 -> global로 해결할 수는 있다. 추천 x\n",
    "def my_calc(a,b):\n",
    "    global result   #이렇게 쓰면 코드가 꼬인다. 유지보수에 문제가 있어. \n",
    "    result += (a +b) \n",
    "    return result\n",
    "\n",
    "print(my_calc(30,40))"
   ]
  },
  {
   "cell_type": "code",
   "execution_count": null,
   "metadata": {},
   "outputs": [],
   "source": []
  }
 ],
 "metadata": {
  "kernelspec": {
   "display_name": "data_env",
   "language": "python",
   "name": "data_env"
  },
  "language_info": {
   "codemirror_mode": {
    "name": "ipython",
    "version": 3
   },
   "file_extension": ".py",
   "mimetype": "text/x-python",
   "name": "python",
   "nbconvert_exporter": "python",
   "pygments_lexer": "ipython3",
   "version": "3.6.8"
  }
 },
 "nbformat": 4,
 "nbformat_minor": 2
}
