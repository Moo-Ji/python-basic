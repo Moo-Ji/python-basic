{
 "cells": [
  {
   "cell_type": "code",
   "execution_count": 1,
   "metadata": {},
   "outputs": [],
   "source": [
    "#Learning의 종류\n",
    "# 지도학습 : 분류모델 알고리즘 데이터에 label이 있음. 예측모델을 만든다. \n",
    "#cf. 비지도 학습: 군집화 알고리즘 label되지 않은 데이터. \n",
    "\n",
    "#응용\n",
    "#이미지 검색 이미지를 글로 읽어낼 수 있음. \n",
    "#의사결정, 경영에 많이 사용이 된다. \n",
    "\n",
    "#하드웨어와 맞물림. 전기계량기에서 빅데이터 사용\n"
   ]
  },
  {
   "cell_type": "code",
   "execution_count": 2,
   "metadata": {},
   "outputs": [],
   "source": [
    "#Linear Regression\n",
    "# 선형회귀 공부 시간 별 점수 선형, 값이 무엇으로 나올지 모름\n",
    "#Logistic Regression (Binary Classification)\n",
    "#공부 시간 별합격 여부 예측모델을 만든다. 7시간은? 실수 값으로 도출\n",
    "#Multinomial Classification 여러개의 범주 중 하나의 값으로 나옴. \n",
    "##입력데이터와 종속데이터가 함께 들어간다. 데이터에 대한 레이블이 들어감. "
   ]
  },
  {
   "cell_type": "code",
   "execution_count": 3,
   "metadata": {},
   "outputs": [],
   "source": [
    "#Regression Analysis 회귀 분석\n",
    "# 변수들 사이에 경향성이 있는지 보고, 있다면 예측모델 도출\n",
    "# 회귀 모형이 타당하다면 독립변수와 의존변수 간에 의존 관계가 있다. \n",
    "# 독립변수의 값을 토대로 종속변수의 값을 예측할 수도 있다. \n",
    "#독립변수가 둘 이상인 경우 다중회귀분석이라고 한다. "
   ]
  },
  {
   "cell_type": "code",
   "execution_count": 1,
   "metadata": {},
   "outputs": [],
   "source": [
    "#단순선형회귀모델 - 데이터의 경향을 직선으로 표현 가능함. \n",
    "# 독립변수와 종속변수의 경향을 알아보는 기본적인 방법은 1차 함수Linear function\n",
    "#오차가 가장 적은 일차함수를 만드는 것. \n",
    "#자료를 잘 표현하는 기울기와 절편 구한다. "
   ]
  },
  {
   "cell_type": "code",
   "execution_count": null,
   "metadata": {},
   "outputs": [],
   "source": [
    "# 가설인 직선을 찾아내면 예측모델로 알고싶은 값을 찾을 수 있다. \n",
    "# cost함수를 최소화시키는 w와 b"
   ]
  }
 ],
 "metadata": {
  "kernelspec": {
   "display_name": "data_env",
   "language": "python",
   "name": "data_env"
  },
  "language_info": {
   "codemirror_mode": {
    "name": "ipython",
    "version": 3
   },
   "file_extension": ".py",
   "mimetype": "text/x-python",
   "name": "python",
   "nbconvert_exporter": "python",
   "pygments_lexer": "ipython3",
   "version": "3.6.8"
  }
 },
 "nbformat": 4,
 "nbformat_minor": 2
}
