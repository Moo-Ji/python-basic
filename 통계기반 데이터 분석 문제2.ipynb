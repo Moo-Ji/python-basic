{
 "cells": [
  {
   "cell_type": "code",
   "execution_count": null,
   "metadata": {},
   "outputs": [],
   "source": [
    "'''\n",
    "문제 2) 다음과 같은 내용을 이용하여 카이제곱 검정을 수행하세요.\n",
    "총 500명을 대상으로 흡연량과 음주량 사이에 관계를 조사한 내용은 다음과 같다. ( 단위 : 명 )\n",
    "흡연 1갑이상, 음주 반병이상 : 23\n",
    "흡연 1갑이상, 음주 반병이하 : 31\n",
    "흡연 1갑이상, 음주 못마심 : 13\n",
    "\n",
    "흡연 1갑이하, 음주 반병이상 : 21\n",
    "흡연 1갑이하, 음주 반병이하 : 48\n",
    "흡연 1갑이하, 음주 못마심 : 23\n",
    "\n",
    "흡연 안피움, 음주 반병이상 : 63\n",
    "흡연 안피움, 음주 반병이하 : 159\n",
    "흡연 안피움, 음주 못마심 : 119\n",
    "\n",
    "실행결과예) 음주량과 흡연량은 관련성이 있다.\n",
    "'''"
   ]
  },
  {
   "cell_type": "code",
   "execution_count": 50,
   "metadata": {},
   "outputs": [
    {
     "name": "stdout",
     "output_type": "stream",
     "text": [
      "카이제곱값:12.826630603041854\n",
      "pvalue:0.012154721873148373\n",
      "자유도:4\n",
      "흡연과 음주량은 연관성이 없다. \n"
     ]
    }
   ],
   "source": [
    "H0 = \"흡연과 음주량은 연관성이 없다. \" #귀무가설\n",
    "H1 = \"흡연과 음주량은 연관성이 있다. \" #대립가설\n",
    "\n",
    "import pandas as pd\n",
    "import numpy as np\n",
    "from scipy import stats\n",
    "\n",
    "#dataframe 작성\n",
    "df = pd.DataFrame([[23, 21, 63] \n",
    "                 ,[31, 48, 159]\n",
    "                 ,[13, 23, 119]]\n",
    "                , columns = [\"1갑 이상\",\"1갑 이하\",\"안피움\"]\n",
    "                , index = [\"반 병 이상\",\"반 병 이하\", \"안마심\"])\n",
    "\n",
    "#직접 구하는 방법\n",
    "#합계 도출\n",
    "\n",
    "# df[\"개(열)\"] = df[\"1갑 이상\"] + df[\"1갑 이하\"] + df[\"안피움\"]\n",
    "# df.loc[\"개(행)\"] = df.select_dtypes(pd.np.number).sum()\n",
    "\n",
    "# display(df)\n",
    "\n",
    "# #Expected value \n",
    "# ##기대값을 구하는 함수\n",
    "# def EV (i,j):\n",
    "#     EV_R = df.iloc[i,-1]/df.iloc[-1,-1]*df.iloc[-1,j]/df.iloc[-1,-1]\n",
    "#     return EV_R*df.iloc[-1,-1]    #기대값 = 확률* 해당 사건의 총 수\n",
    "\n",
    "# #모든 범주에 대한 기대값\n",
    "# EV_list = list()\n",
    "# for i in range(df.shape[0]):\n",
    "#     for j in range(df.shape[1]):\n",
    "#         EV_list.append(EV(i,j))\n",
    "# EV_list = np.array(EV_list).reshape(4,4)\n",
    "# EV_df = pd.DataFrame(EV_list, index = [\"반 병 이상\",\"반 병 이하\", \"안마심\",\"개(행)\"]\n",
    "#         ,columns = [\"1갑 이상\",\"1갑 이하\",\"안피움\",\"개(열)\"])\n",
    "# display(EV_df)\n",
    "\n",
    "# #카이제곱 값을 구하는 함수\n",
    "# def chi(i,j):\n",
    "#     chi_R = (df.iloc[i,j]-EV(i,j))**2/EV(i,j)\n",
    "#     return chi_R\n",
    "\n",
    "# #카이제곱 값 구하기\n",
    "# Chi_list = list()\n",
    "# for i in range(df.shape[0]-1):\n",
    "#     for j in range(df.shape[1]-1):\n",
    "#         Chi_list.append(chi(i,j))\n",
    "# Chi_list = np.array(Chi_list).reshape(3,3)\n",
    "# Chi_df = pd.DataFrame(Chi_list, index = [\"반 병 이상\",\"반 병 이하\", \"안마심\"]\n",
    "#         ,columns = [\"1갑 이상\",\"1갑 이하\",\"안피움\"])\n",
    "# display(Chi_df)\n",
    "\n",
    "# #자유도 구하기\n",
    "# degree_of_fredom= (Chi_df.shape[0]-1)*(Chi_df.shape[1]-1)\n",
    "\n",
    "#scipy이용해서 구하기\n",
    "chi2, pvalue, free,_table = stats.chi2_contingency(df)\n",
    "print(\"카이제곱값:{}\".format(chi2))\n",
    "print(\"pvalue:{}\".format(pvalue))\n",
    "print(\"자유도:{}\".format(free))\n",
    "      \n",
    "if pvalue<0.05:\n",
    "      print(H0)\n",
    "else:\n",
    "      print(H1)"
   ]
  }
 ],
 "metadata": {
  "kernelspec": {
   "display_name": "Python 3",
   "language": "python",
   "name": "python3"
  },
  "language_info": {
   "codemirror_mode": {
    "name": "ipython",
    "version": 3
   },
   "file_extension": ".py",
   "mimetype": "text/x-python",
   "name": "python",
   "nbconvert_exporter": "python",
   "pygments_lexer": "ipython3",
   "version": "3.6.8"
  }
 },
 "nbformat": 4,
 "nbformat_minor": 2
}
