{
 "cells": [
  {
   "cell_type": "code",
   "execution_count": 1,
   "metadata": {},
   "outputs": [],
   "source": [
    "#python에서 일반적으로 말하는 data type\n",
    "#1. 숫자형 (number)\n",
    "#2. 문자열 (String)\n",
    "#3. 리스트 (List) - 순수 파이썬에는 배열이 없음. array list\n",
    "#4. 튜플 (tuple) -자바에 없음. \n",
    "#5. 딕셔너리 (dictionary) key, value 쌍. - hash map\n",
    "#6. 집합(set)\n",
    "#7. 논리형 (bool) True, False\n",
    "#8. 날짜 (date)"
   ]
  },
  {
   "cell_type": "code",
   "execution_count": 2,
   "metadata": {},
   "outputs": [
    {
     "name": "stdout",
     "output_type": "stream",
     "text": [
      "0.75\n",
      "32\n",
      "1\n",
      "3\n"
     ]
    }
   ],
   "source": [
    "#1. 숫자형 (number)\n",
    "# 정수, 실수, 복소수, 8진수, 16진수. \n",
    "a = 100 #정수\n",
    "b = 3.1415E3 #실수 E3 10을 세번 곱함\n",
    "c = 1 + 2j #복소수\n",
    "d = 0o34 #8진수\n",
    "e = 0xAA #16진수\n",
    "#어떻게 표현하는지 알아두면 된다. \n",
    "\n",
    "div = 3/4\n",
    "print(div) #다른 프로그래밍 언어는 정수만 취하므로 0이라고 나온다. \n",
    "#python은 실수로 계산이 된다. cf. python 2.xx에서는 0이라고 나온다. \n",
    "\n",
    "#제곱 표현\n",
    "result = 2**5\n",
    "print(result)\n",
    "\n",
    "#나머지 연산\n",
    "result = 10 % 3\n",
    "print(result)\n",
    "\n",
    "#나눗셈 수행 후 몫만 취하는 연산\n",
    "result = 10 // 3\n",
    "print(result)"
   ]
  },
  {
   "cell_type": "code",
   "execution_count": 3,
   "metadata": {},
   "outputs": [
    {
     "name": "stdout",
     "output_type": "stream",
     "text": [
      "Hello\n",
      "World\n",
      "Hello\n",
      "world\n",
      "여러 줄에 걸친 문자열 입니다. \n"
     ]
    }
   ],
   "source": [
    "#2. 문자열 (String)\n",
    "a = \"Hello World\"\n",
    "b = 'Hello World'\n",
    "c = \"Hello\\nWorld\" #Java Style , 개행문자로 처리. \n",
    "print(c)\n",
    "\n",
    "d = \"\"\"Hello\n",
    "world\n",
    "여러 줄에 걸친 문자열 입니다. \"\"\"\n",
    "print(d)"
   ]
  },
  {
   "cell_type": "code",
   "execution_count": 4,
   "metadata": {},
   "outputs": [
    {
     "name": "stdout",
     "output_type": "stream",
     "text": [
      "This is a sample text.\n",
      "This is a100\n",
      "pythonpythonpython\n"
     ]
    }
   ],
   "source": [
    "#문자열에 대한 더하기 연산\n",
    "first = \"This is a\"\n",
    "middle =\" sample\"\n",
    "last =\" text.\"\n",
    "\n",
    "print(first + middle + last)\n",
    "\n",
    "a = 100\n",
    "#result = first + a  # error문자열과 숫자를 더할 수 없다.\n",
    "result = first +str(a)\n",
    "print(result)\n",
    "\n",
    "#문자열에 대한 곱하기 연산\n",
    "text = \"python\"\n",
    "result = text * 3\n",
    "print(result)"
   ]
  },
  {
   "cell_type": "code",
   "execution_count": 5,
   "metadata": {},
   "outputs": [
    {
     "name": "stdout",
     "output_type": "stream",
     "text": [
      "T\n",
      ".\n",
      "Talk\n",
      "is a cheap. Show me the Code.\n",
      "Talk is a \n",
      "Talk is a cheap. Show me the Code.\n"
     ]
    }
   ],
   "source": [
    "#문자열 indexing\n",
    "str = \"Talk is a cheap. Show me the Code.\"\n",
    "print(str[0]) #0번째 index 값을 알아온다. \n",
    "print(str[-1]) #맨 끝에서 첫 번 째\n",
    "\n",
    "#문자열 slicing\n",
    "result = str[0:4] #0번째부터 4번째 앞까지. \n",
    "print(result)\n",
    "result = str[5:] # 5번 인덱스부터 끝까지. \n",
    "print(result)\n",
    "result = str[:10] # 처음부터 9까지\n",
    "print(result)\n",
    "result = str[:] # 문장을 모두 가져온다. \n",
    "print(result)"
   ]
  },
  {
   "cell_type": "code",
   "execution_count": 6,
   "metadata": {},
   "outputs": [
    {
     "name": "stdout",
     "output_type": "stream",
     "text": [
      "True\n",
      "False\n",
      "True\n"
     ]
    }
   ],
   "source": [
    "#in 연산자\n",
    "str = \"Talk is a cheap. Show me the Code.\"\n",
    "print(\"cheap\" in str) #True\n",
    "print(\"Cheap\" in str) #False 대소문자를 구분한다. \n",
    "print(\"Cheap\" not in str) #True #not in 연산자. "
   ]
  },
  {
   "cell_type": "code",
   "execution_count": 7,
   "metadata": {},
   "outputs": [
    {
     "name": "stdout",
     "output_type": "stream",
     "text": [
      "나는 사과 3개를 가지고 있어.\n",
      "나는 사과 10개를 가지고 있어.\n",
      "나는 사과 다섯개를 가지고 있어.\n",
      "나는 사과 3개와 참외 5개를 가지고 있어.\n",
      "공장 가동률은 95%입니다. \n",
      "나는 사과         10개가 있어요.\n",
      "원주율은 3.142입니다. \n"
     ]
    }
   ],
   "source": [
    "#문자열 formatting\n",
    "\n",
    "str = \"나는 사과 %d개를 가지고 있어.\" %3 #%d는 정수\n",
    "print(str)\n",
    "amount = 10 #변수로도 가능. \n",
    "str = \"나는 사과 %d개를 가지고 있어.\" %amount \n",
    "print(str)\n",
    "str = \"나는 사과 %s개를 가지고 있어.\" %\"다섯\" #%s는 문자열\n",
    "print(str)\n",
    "str = \"나는 사과 %d개와 참외 %d개를 가지고 있어.\" %(3,5)\n",
    "#포매팅을 여러 번 할 때 표현 방법\n",
    "print(str)\n",
    "str = \"공장 가동률은 %d%%입니다. \" %95\n",
    "print(str)\n",
    "str =\"나는 사과 %10d개가 있어요.\" %10 #10칸을 비워둠. \n",
    "#숫자가 양수면 오른쪽 정렬, 음수면 왼쪽 정렬\n",
    "print(str)\n",
    "str = \"원주율은 %.3f입니다. \" %3.1415926 #세번째 자리에서 반올림 처리. \n",
    "print(str)"
   ]
  },
  {
   "cell_type": "code",
   "execution_count": 8,
   "metadata": {},
   "outputs": [
    {
     "name": "stdout",
     "output_type": "stream",
     "text": [
      "['__add__', '__class__', '__contains__', '__delattr__', '__dir__', '__doc__', '__eq__', '__format__', '__ge__', '__getattribute__', '__getitem__', '__getnewargs__', '__gt__', '__hash__', '__init__', '__init_subclass__', '__iter__', '__le__', '__len__', '__lt__', '__mod__', '__mul__', '__ne__', '__new__', '__reduce__', '__reduce_ex__', '__repr__', '__rmod__', '__rmul__', '__setattr__', '__sizeof__', '__str__', '__subclasshook__', 'capitalize', 'casefold', 'center', 'count', 'encode', 'endswith', 'expandtabs', 'find', 'format', 'format_map', 'index', 'isalnum', 'isalpha', 'isdecimal', 'isdigit', 'isidentifier', 'islower', 'isnumeric', 'isprintable', 'isspace', 'istitle', 'isupper', 'join', 'ljust', 'lower', 'lstrip', 'maketrans', 'partition', 'replace', 'rfind', 'rindex', 'rjust', 'rpartition', 'rsplit', 'rstrip', 'split', 'splitlines', 'startswith', 'strip', 'swapcase', 'title', 'translate', 'upper', 'zfill']\n"
     ]
    }
   ],
   "source": [
    "#문자열 함수\n",
    "str =\"hello\"\n",
    "print(dir(str)) #해당 객체가 가진 필드와 매서드를 다 리스트로 리턴한다. "
   ]
  },
  {
   "cell_type": "code",
   "execution_count": 9,
   "metadata": {},
   "outputs": [
    {
     "name": "stdout",
     "output_type": "stream",
     "text": [
      "<class 'str'>\n"
     ]
    }
   ],
   "source": [
    "print(type(str)) #데이터 타입 출력 데이터 타입 조사할 때 이용한다. "
   ]
  },
  {
   "cell_type": "code",
   "execution_count": 44,
   "metadata": {},
   "outputs": [
    {
     "name": "stdout",
     "output_type": "stream",
     "text": [
      "8\n",
      "2\n",
      "2\n",
      "2\n"
     ]
    }
   ],
   "source": [
    "str = \"cocacola\"\n",
    "result = len(str) #인자로 들어오는 개수를 센다. \n",
    "print(result)\n",
    "result = str.count(\"co\") #문자 및 문자열이 몇 개 있는지 개수를 센다. \n",
    "print(result)\n",
    "result = str.find(\"ca\") #인자로 들어온 문자열이 가장 처음 나오는 위치\n",
    "print(result)  #문자를 찾지 못하면 -1을 반환한다. \n",
    "result = str.index(\"ca\") #find 와 동일하나, 찾지 못하면 error 뜬다. \n",
    "print(result)"
   ]
  },
  {
   "cell_type": "code",
   "execution_count": 11,
   "metadata": {},
   "outputs": [
    {
     "name": "stdout",
     "output_type": "stream",
     "text": [
      "a-b-c-d-e-f\n",
      "     HELLO     WORLD     \n",
      "     hello     world     \n",
      "Hello     World\n"
     ]
    }
   ],
   "source": [
    "a = \"-\" #공백, ',' , / 넣을 때 사용한다. \n",
    "b = \"abcdef\"\n",
    "result = a.join(b) #안의 내용 사이에 밖의 내용을 넣어서 보여준다. \n",
    "print(result)\n",
    "str = \"     Hello     World     \"\n",
    "print(str.upper()) #문자열 대문자로 변환\n",
    "print(str.lower()) #문자열 소문자로 변환\n",
    "print(str.strip()) #문자열 양 끝 공백을 제거"
   ]
  },
  {
   "cell_type": "code",
   "execution_count": 12,
   "metadata": {},
   "outputs": [
    {
     "name": "stdout",
     "output_type": "stream",
     "text": [
      "Show me the Money\n",
      "Show me the Code\n",
      "['Show', 'me', 'the', 'Code']\n",
      "['a', 'b', 'c', 'd']\n"
     ]
    }
   ],
   "source": [
    "#문자열 함수\n",
    "str = \"Show me the Code\"\n",
    "result = str.replace(\"Code\", \"Money\")\n",
    "print(result) \n",
    "print(str) #원래의 문자열은 변화가 없다는 점 유의. immutable(불변의)\n",
    "result = str.split() #기본적으로는, 공백을 기준으로 나눈다. 리스트로 리턴\n",
    "#배열 아님.\n",
    "print(result)\n",
    "str = \"a::b::c::d\"\n",
    "result = str.split(\"::\")\n",
    "print(result)"
   ]
  },
  {
   "cell_type": "code",
   "execution_count": 13,
   "metadata": {},
   "outputs": [
    {
     "name": "stdout",
     "output_type": "stream",
     "text": [
      "나는 사과 5개 있어요.\n",
      "나는 사과 5개 바나나가 3개 있어요.\n",
      "나는 사과 5개 바나나가 3개 있어요.\n",
      "원주율은 3.142입니다.\n",
      "123,456,789\n",
      "87%\n",
      "87.36%\n"
     ]
    }
   ],
   "source": [
    "#python에서 일반적으로 사용되는 문자열 \n",
    "#formatting method\n",
    "str = \"나는 사과 %d개 있어요.\" %5\n",
    "print(str)\n",
    "str = \"나는 사과 {}개 바나나가 {}개 있어요.\".format(5,3)\n",
    "print(str)\n",
    "str = \"나는 사과 {num1}개 바나나가 {num2}개 있어요.\".format(num1=5,num2=3)\n",
    "print(str)\n",
    "str = \"원주율은 {0:0.3f}입니다.\".format(3.141592)\n",
    "print(str)\n",
    "#천단위마다 \",\"출력\n",
    "num = 123456789\n",
    "str = \"{0:,}\".format(num)\n",
    "print(str)\n",
    "#백분율 처리 (반올림 처리 되요.)\n",
    "num = 0.87356\n",
    "str =\"{0:.0%}\".format(num)\n",
    "print(str)\n",
    "str =\"{0:.2%}\".format(num) #소수점 아래 둘째 자리까지 반올림\n",
    "print(str)"
   ]
  },
  {
   "cell_type": "code",
   "execution_count": 14,
   "metadata": {},
   "outputs": [
    {
     "name": "stdout",
     "output_type": "stream",
     "text": [
      "<class 'list'>\n",
      "[]\n",
      "[1, 2, 3, 4]\n",
      "[1, 3.14, 'Hello', True]\n",
      "[1, 2, ['Show', 'me', 'the', 'Money!'], 3.14, True]\n",
      "['Show', 'me', 'the', 'Money!']\n",
      "<class 'list'>\n",
      "[1]\n",
      "<class 'int'>\n",
      "<class 'list'>\n",
      "y!\n"
     ]
    }
   ],
   "source": [
    "#3. 리스트 (List)\n",
    "#python의 자료구조\n",
    "#list(기본 python에는 배열이 없다. )\n",
    "#java의 Arraylist와 유사. \n",
    "#임의의 객체를 순서대로 저장하는 집합 자료형\n",
    "#표현 방법은 []를 이용. 다른 자료구조는 소괄호, 중괄호 등도 있다. \n",
    "my_list = list() #list() 내장함수를 이용해서 list 생성\n",
    "print(type(my_list)) #list data type을 확인\n",
    "print(my_list)\n",
    "my_list=[1,2,3,4]\n",
    "print(my_list) #리스트는 배열이 아니다. 따라서 사용하는 데이터 타입이 달라도 됨\n",
    "my_list=[1,3.14,\"Hello\",True]\n",
    "print(my_list)\n",
    "my_list = [1,2,[\"Show\",\"me\",\"the\", \"Money!\"],3.14, True] #list 내의 list\n",
    "print(my_list)\n",
    "print(my_list[2]) #인덱싱 할 수 있다.\n",
    "print(type(my_list[2])) #타입 확인\n",
    "print(my_list[0:1]) #리스트에서 슬라이싱 가능, 그리고, 타입은 list임 유의\n",
    "print(type(my_list[0])) \n",
    "print(type(my_list[0:1])) \n",
    "print(my_list[2][3][-2:]) #슬라이싱. 원하는 위치에 있는 데이터를 원하는 \n",
    "#형태로 읽어오고 바꾸는 작업에 능숙해져야 한다. "
   ]
  },
  {
   "cell_type": "code",
   "execution_count": 15,
   "metadata": {},
   "outputs": [
    {
     "name": "stdout",
     "output_type": "stream",
     "text": [
      "<class 'range'>\n",
      "range(0, 10)\n",
      "[0, 1, 2, 3, 4, 5, 6, 7, 8, 9]\n",
      "range(1, 10)\n",
      "range(1, 10, 3)\n",
      "[1, 4, 7]\n"
     ]
    }
   ],
   "source": [
    "#list와 함께 사용하는 함수들. #range()\n",
    "my_range = range(10) #0부터 9까지 1씩 증가하는 range\n",
    "print(type(my_range))\n",
    "print(my_range) #0부터 9까지 10개 #영역 잡을 때 많이 사용. \n",
    "my_list = list(my_range)\n",
    "print(my_list)\n",
    "my_range = range(1, 10) #1부터 9까지 1씩 증가하는 range\n",
    "print(my_range)\n",
    "my_range = range(1, 10, 3) #1부터 9까지 3씩 증가하는 range\n",
    "print(my_range)\n",
    "my_list = list(my_range)\n",
    "print(my_list)"
   ]
  },
  {
   "cell_type": "code",
   "execution_count": 16,
   "metadata": {},
   "outputs": [
    {
     "name": "stdout",
     "output_type": "stream",
     "text": [
      "[1, 2, 3, 4, 5, 6]\n",
      "[1, 2, 3, 1, 2, 3, 1, 2, 3]\n",
      "[[9, 9, 9], 2, 3, 4, 5]\n",
      "[9, 9, 9, 2, 3, 4, 5]\n",
      "[5]\n"
     ]
    }
   ],
   "source": [
    "#list의 기본 연산\n",
    "a = [1,2,3]\n",
    "b = [4,5,6]\n",
    "\n",
    "result = a + b #list에서도 + 연산은 연결의 의미\n",
    "print(result) #numpy에서는 다르게 동작할 것입니다. 비교하기. \n",
    "result = a * 3 #곱하기 연산도 연결의 의미. \n",
    "print(result)\n",
    "a = [1,2,3,4,5]\n",
    "a[0] = [9,9,9] #인덱싱, 0의 위치에 list 넣음. \n",
    "print(a)\n",
    "a[0:1] = [9,9,9] #슬라이싱 - 영역으로 잡힘. 값을 끼워넣는 역할\n",
    "print(a) #차이를 알아두세요. \n",
    "a[0:-1] = []\n",
    "print(a)"
   ]
  },
  {
   "cell_type": "code",
   "execution_count": 17,
   "metadata": {},
   "outputs": [],
   "source": [
    "#삭제하는 방법\n",
    "#del a[]\n",
    "#a[0:-1] = []\n",
    "##범위 지정 삭제 del a[0:-1]"
   ]
  },
  {
   "cell_type": "code",
   "execution_count": 18,
   "metadata": {},
   "outputs": [
    {
     "name": "stdout",
     "output_type": "stream",
     "text": [
      "[1, 2, 3, 4]\n",
      "[1, 2, 3, 4, [9, 9, 9]]\n",
      "[1, 2, 3, 4, [9, 9, 9], 9, 9, 9]\n",
      "None\n",
      "[2, 4, 5, 7, 8, 9]\n",
      "[9, 8, 7, 5, 4, 2]\n",
      "3\n"
     ]
    }
   ],
   "source": [
    "#list기본 함수\n",
    "my_list = [1,2,3]\n",
    "my_list.append(4) #list의 마지막 요소에 추가\n",
    "print(my_list)\n",
    "my_list.append([9,9,9]) #list에 list요소를 추가할 수 있다. \n",
    "print(my_list)\n",
    "my_list.extend([9,9,9]) #비교하기. list 확장\n",
    "print(my_list)\n",
    "my_list = [5,8,2,9,4,7]\n",
    "result = my_list.sort() #오름차순 정렬 \n",
    "#정렬된 결과를 리턴하지 않는다.  = 원본만 정렬해둔다. 결과값 없음. \n",
    "print(result) #sort는 오름차순으로 정렬하여 원본을 바꾼다. \n",
    "print(my_list)\n",
    "my_list.reverse() #list요소를 역순으로 배치. 리턴하지 않고 원본 변경. \n",
    "print(my_list)\n",
    "\n",
    "#위치를 알아내는 함수 index()\n",
    "my_list = [5,8,2,9,4,7]\n",
    "print(my_list.index(9))"
   ]
  },
  {
   "cell_type": "code",
   "execution_count": 19,
   "metadata": {},
   "outputs": [
    {
     "name": "stdout",
     "output_type": "stream",
     "text": [
      "[100, 1, 2, 3]\n",
      "[1, 2, 1, 2, 3, 1, 2, 3]\n",
      "3\n"
     ]
    },
    {
     "data": {
      "text/plain": [
       "[1, 2]"
      ]
     },
     "execution_count": 19,
     "metadata": {},
     "output_type": "execute_result"
    }
   ],
   "source": [
    "#list 추가적인 함수들\n",
    "a = [1,2,3] \n",
    "a.insert(0, 100) #0번째에 100이 들어가고, 뒤의 요소들은 밀려남. \n",
    "print(a) #원하는 위치에 원하는 값을 추가할 수 있음. \n",
    "a = [1,2,3,1,2,3,1,2,3] \n",
    "a.remove(3) #앞에서부터 처음 발견된 3만 지운다. \n",
    "print(a)\n",
    "a = [1,2,3] \n",
    "result = a.pop() #맨 마지막 요소를 뜯어온다. \n",
    "print(result) #뜯긴 값. \n",
    "a #주피터 노트북에서는 변수 이름 보고 바로 값을 보여주는 기능을 제공해주는 것."
   ]
  },
  {
   "cell_type": "code",
   "execution_count": 20,
   "metadata": {},
   "outputs": [
    {
     "name": "stdout",
     "output_type": "stream",
     "text": [
      "2066257174984\n",
      "True\n",
      "[1, 2, 3]\n",
      "False\n",
      "2066257175688\n",
      "False\n"
     ]
    }
   ],
   "source": [
    "#list 복사\n",
    "a = [1,2,3] # list 객체 a라는 번수가 메모리(Heap)를 가지고 있다.\n",
    "#a는 list 객체의 시작 메모리에 대한 reference를 가지고 있다. \n",
    "#자바는 해쉬값을 가지고 있어. cf. C는 메모리 연산 가능. \n",
    "#a는 reference variable 이라고 한다. \n",
    "print(id(a)) #reference 값이다.  id()가 같다면 메모리 주소가 같은 객체. \n",
    "b = a # 값이 같은지 비교\n",
    "print(a is b) #a와 b가 같은 객체를 reference (가리킨다.)\n",
    "b = a[:] #전체를 슬라이싱 슬라이싱은 가져와서 '새로운'메모리에 저장. \n",
    "print(b)\n",
    "print(a is b) #객체가 같냐 아니냐를 비교하는 것이 아님. reference같은지 비교\n",
    "print(id(b))\n",
    "from copy import copy\n",
    "a = [1,2,3]\n",
    "b = copy(a)\n",
    "print(a is b) #False"
   ]
  },
  {
   "cell_type": "code",
   "execution_count": 21,
   "metadata": {},
   "outputs": [
    {
     "name": "stdout",
     "output_type": "stream",
     "text": [
      "<class 'tuple'>\n",
      "<class 'int'>\n",
      "<class 'tuple'>\n"
     ]
    }
   ],
   "source": [
    "#4. 튜플 (tuple) \n",
    "#list와 거의 유사. #기호 () 소괄호 이용함. \n",
    "#list는 list안의 값의 수정과 삭제가 가능\n",
    "#cf. 튜플은 튜플 내 값의 수정과 삭제가 불가능 만들면 그대로 써야함. \n",
    "my_tuple = () #내용이 비어있는 tuple 내용 변경 불가. 쓸 곳 없음. \n",
    "my_tuple = (1,2,3)  #tuple의 literal  코드상에 어떻게 표현하는지. \n",
    "print(type(my_tuple))\n",
    "my_tuple = (1) #원소가 하나 있는 튜플의 literal 의도. 그러나 정수로 인식\n",
    "print(type(my_tuple))\n",
    "my_tuple = (1,) #튜플임을 명확하게 인지시키기 위한 표현\n",
    "print(type(my_tuple))"
   ]
  },
  {
   "cell_type": "code",
   "execution_count": 22,
   "metadata": {},
   "outputs": [
    {
     "data": {
      "text/plain": [
       "10"
      ]
     },
     "execution_count": 22,
     "metadata": {},
     "output_type": "execute_result"
    }
   ],
   "source": [
    "my_tuple = 1,2,3 #tuple은 ()생략 가능. 틀린 표현식이 아니고, tuple로 간주. \n",
    "a, b = 10, 20 #이것도 사실은 tuple (a,b) =(10,20)과 같음. \n",
    "#해당 위치의 값을 할당받을 수 있다. 튜플의 원소이면서 개별 변수이기도 함. \n",
    "a"
   ]
  },
  {
   "cell_type": "code",
   "execution_count": 23,
   "metadata": {},
   "outputs": [
    {
     "name": "stdout",
     "output_type": "stream",
     "text": [
      "2\n",
      "(2, 3)\n",
      "(1, 2, 3, 4, 5, 6)\n",
      "(1, 2, 3)\n"
     ]
    }
   ],
   "source": [
    "#a, b = 10, 20, 30 튜플이므로 이러한 표현식은 허용되지 않아. \n",
    "my_tuple = 1,2,3,4,5,6\n",
    "my_tuple[1] #tuple indexing\n",
    "print(my_tuple[1])\n",
    "my_tuple[1:3] #tuple slicing 결과도 tuple\n",
    "print(my_tuple[1:3])\n",
    "#my_tuple[0] = 100 에러. tuple은 값을 수정할 수 없다. \n",
    "\n",
    "my_tuple = 1,2,3\n",
    "result = my_tuple + (4,5,6) #튜플 내 값 직접 수정은 안되도 값 확장은 가능. \n",
    "print(result) # 튜플 plus연산 지원. \n",
    "print(my_tuple) #튜플 자체가 변하는 것이 아니다. "
   ]
  },
  {
   "cell_type": "code",
   "execution_count": 24,
   "metadata": {},
   "outputs": [
    {
     "name": "stdout",
     "output_type": "stream",
     "text": [
      "(1, 2, 3)\n",
      "['Hello', 'world', '!']\n"
     ]
    }
   ],
   "source": [
    "#list 와 tuple 간의 변환 #리스트로 만들다 상수로 고정할 때 사용. \n",
    "my_list = [1,2,3]\n",
    "my_tuple = tuple(my_list)\n",
    "print(my_tuple)\n",
    "\n",
    "my_tuple = (\"Hello\", \"world\", \"!\")\n",
    "my_list = list(my_tuple)\n",
    "print(my_list)"
   ]
  },
  {
   "cell_type": "code",
   "execution_count": 25,
   "metadata": {},
   "outputs": [
    {
     "name": "stdout",
     "output_type": "stream",
     "text": [
      "<class 'dict'>\n"
     ]
    }
   ],
   "source": [
    "#5. 딕셔너리 (dictionary)\n",
    "#dictionary는 {} 로 표현하고, key와 value의 쌍으로 표현. 순서 개념이 없음. \n",
    "#literal 의 형태가 json처럼 생겼어요. \n",
    "my_dict = {\"name\" : \"홍길동\", \"address\" : \"서울\"}\n",
    "print(type(my_dict))"
   ]
  },
  {
   "cell_type": "code",
   "execution_count": 26,
   "metadata": {},
   "outputs": [
    {
     "name": "stdout",
     "output_type": "stream",
     "text": [
      "{'name': '홍길동', 'address': '서울', 'age': 50}\n",
      "{'name': '홍길동', 'address': '서울', 'age': 50}\n",
      "홍길동\n"
     ]
    }
   ],
   "source": [
    "my_dict[\"age\"] = 50 #자바에서는 오류. 파이썬은 값 자체를 추가시켜줌. \n",
    "print(my_dict) #배열형태 사용 가능. 동적으로 key value 추가 수정 삭제 가능. \n",
    "#del my_dict[\"address\"] #address key 삭제\n",
    "print(my_dict)\n",
    "print(my_dict[\"name\"]) #값을 알아내는 방법"
   ]
  },
  {
   "cell_type": "code",
   "execution_count": 27,
   "metadata": {},
   "outputs": [
    {
     "name": "stdout",
     "output_type": "stream",
     "text": [
      "{'name': '홍길동', 'age': 40}\n"
     ]
    }
   ],
   "source": [
    "#키가 중복될 수는 없다. 하나는 무시함. 어떤 것을 무시했는지 알 수 없다. \n",
    "my_dict = {\"name\" : \"홍길동\", \"age\" : 20, \"age\" : 40}\n",
    "print(my_dict)"
   ]
  },
  {
   "cell_type": "code",
   "execution_count": 28,
   "metadata": {},
   "outputs": [
    {
     "name": "stdout",
     "output_type": "stream",
     "text": [
      "dict_keys(['name', 'age', 'address'])\n",
      "<class 'dict_keys'>\n",
      "name\n",
      "age\n",
      "address\n"
     ]
    }
   ],
   "source": [
    "#dictionary 일반적인 사용법\n",
    "#keys() dictionary 의 키를 list처럼 반환\n",
    "my_dict = {\"name\" : \"홍길동\", \"age\" : 20, \"address\" : \"서울\"}\n",
    "print(my_dict.keys())\n",
    "print(type(my_dict.keys())) #list와 유사하지만, 리스트는 아니다. \n",
    "#list로 간주하여..\n",
    "for tmp in my_dict.keys(): #in 뒤에 집합 자료형을 쓴다. #끝에 : 명시. \n",
    "    print(\"{}\".format(tmp)) #네 칸을 들여쓰기 indentation . 이게 하나의 block"
   ]
  },
  {
   "cell_type": "code",
   "execution_count": 29,
   "metadata": {},
   "outputs": [
    {
     "name": "stdout",
     "output_type": "stream",
     "text": [
      "홍길동\n",
      "20\n",
      "서울\n",
      "('name', '홍길동')\n",
      "('age', 20)\n",
      "('address', '서울')\n",
      "name,홍길동\n",
      "age,20\n",
      "address,서울\n"
     ]
    }
   ],
   "source": [
    "my_dict = {\"name\" : \"홍길동\", \"age\" : 20, \"address\" : \"서울\"}\n",
    "for tmp in my_dict.values(): #values()는 deictionary에서 value만 추출\n",
    "    print(\"{}\".format(tmp))\n",
    "for tmp in my_dict.items(): #tuple로 key와 value추출\n",
    "    print(\"{}\".format(tmp))\n",
    "for (key, value) in my_dict.items():\n",
    "    print(\"{},{}\".format(key, value))    "
   ]
  },
  {
   "cell_type": "code",
   "execution_count": 30,
   "metadata": {},
   "outputs": [
    {
     "name": "stdout",
     "output_type": "stream",
     "text": [
      "홍길동\n",
      "홍길동\n",
      "이름없음\n"
     ]
    }
   ],
   "source": [
    "my_dict = {\"name\" : \"홍길동\", \"age\" : 20, \"address\" : \"서울\"} \n",
    "print(my_dict[\"name\"])\n",
    "print(my_dict.get(\"name\"))\n",
    "print(my_dict.get(\"name11\",\"이름없음\")) #get은 디폴트 값 사용 가능"
   ]
  },
  {
   "cell_type": "code",
   "execution_count": 31,
   "metadata": {},
   "outputs": [
    {
     "name": "stdout",
     "output_type": "stream",
     "text": [
      "True\n"
     ]
    }
   ],
   "source": [
    "print(\"age\" in my_dict) #True  딕셔너리 안에 키 중에 찾는 값이 있는지 확인."
   ]
  },
  {
   "cell_type": "code",
   "execution_count": 32,
   "metadata": {},
   "outputs": [],
   "source": [
    "my_dict.clear() #모두 삭제"
   ]
  },
  {
   "cell_type": "code",
   "execution_count": 33,
   "metadata": {},
   "outputs": [
    {
     "name": "stdout",
     "output_type": "stream",
     "text": [
      "{1, 2, 3}\n",
      "{'H', 'o', 'e', 'l'}\n"
     ]
    }
   ],
   "source": [
    "#6. 집합(set)\n",
    "#{} 중괄호 이용해서 표현.\n",
    "#쌍이 아니라, 원소들이 들어감. {1,5,6,7}\n",
    "#중복을 배제, 순서가 없는 집합형 자료구조. \n",
    "s ={1,2,3}\n",
    "print(s)\n",
    "s = set([1,2,3,4,5])#괄호 안은 리스트지만 함수를 적용하면 set이 된다. \n",
    "s = set(\"Hello\")#문자열을 이용해서 만들 수도 있다. \n",
    "print(s) # 중복을 배제하므로 l이 한번만 들어간다."
   ]
  },
  {
   "cell_type": "code",
   "execution_count": 34,
   "metadata": {},
   "outputs": [
    {
     "name": "stdout",
     "output_type": "stream",
     "text": [
      "{3, 4, 5, 6}\n",
      "{1, 2, 3, 4, 5, 6, 7, 8, 9}\n",
      "{1, 2}\n",
      "{1, 2, 3, 40, 10, 20, 30}\n",
      "{1, 2, 3, 40, 10, 20}\n"
     ]
    }
   ],
   "source": [
    "s1 = {1,2,3,4,5,6}\n",
    "s2 = {3,4,5,6,7,8,9}\n",
    "s3 = s1&s2 #교집합이다. 다른 언어와 구분해서 기호 의미 기억할 것. \n",
    "# s1.intercextion(s2) 이것도 교집합 처리\n",
    "print(s3)\n",
    "s4 = s1|s2 #s1.union(s2) 합집합\n",
    "print(s4)\n",
    "s5 = s1 - s2 #s1.difference(s2)\n",
    "print(s5)\n",
    "\n",
    "s ={1,2,3}\n",
    "s.add(10) #set에 요소 한 개를 추가할 때.\n",
    "s.update([10,20,30,40]) #여러개를 추가하고 싶다. \n",
    "print(s)\n",
    "s.remove(30) #삭제\n",
    "print(s)"
   ]
  },
  {
   "cell_type": "code",
   "execution_count": 35,
   "metadata": {},
   "outputs": [],
   "source": [
    "#7. 논리형 (bool)\n",
    "#pyton은 다음과 같은 경우에 False로 간주\n",
    "#False keyword\n",
    "# 빈 문자열 (\" \") cf. 문자 내용이 있으면 True로 간주. \n",
    "#빈 list([]) False로 간주. cf. list 내용이 있으면 True로 간주.\n",
    "#빈 tuple(()) False로 간주. cf. tuple 내용이 있으면 True로 간주.\n",
    "#빈 dict({}) False로 간주. cf. dict 내용이 있으면 True로 간주.\n",
    "#숫자 0은 False, 나머지 숫자는 True로 간주. cf. 자바는 True False로만 판단\n",
    "#None 도 False로 간주."
   ]
  },
  {
   "cell_type": "code",
   "execution_count": 36,
   "metadata": {},
   "outputs": [
    {
     "name": "stdout",
     "output_type": "stream",
     "text": [
      "부산은 있어요.\n"
     ]
    }
   ],
   "source": [
    "#if문의 형식 \n",
    "area = [\"서울\", \"인천\", \"부산\"]\n",
    "if \"제주\" in area:\n",
    "    #참일 경우 코드 작성. \n",
    "    pass #실행 내용이 없을 경우 pass 를 써둬야 한다. \n",
    "elif \"부산\" in area:\n",
    "    print(\"부산은 있어요.\")\n",
    "else:\n",
    "    print(\"부산은 없어요.\")"
   ]
  },
  {
   "cell_type": "code",
   "execution_count": 37,
   "metadata": {},
   "outputs": [
    {
     "name": "stdout",
     "output_type": "stream",
     "text": [
      "사용자 입력을 받아요. \n",
      "\n"
     ]
    }
   ],
   "source": [
    "#입력을 받고 싶어요.\n",
    "#입력 받은 내용은 문자열로 처리된다. 숫자를 넣어도 문자열로 읽음. \n",
    "a = input(\"사용자 입력을 받아요. \")\n",
    "print(a)"
   ]
  },
  {
   "cell_type": "code",
   "execution_count": 38,
   "metadata": {},
   "outputs": [],
   "source": [
    "#Lotto program 작성\n",
    "#1~46개의 숫자 중 6개의 난수를 중복 없이 발생. \n",
    "#사용자로부터 4개의 숫자를 다음과 같은 형식으로 입력\n",
    "# 4,12,23,.. ,를 기준으로 숫자 입력 받음. \n",
    "#두 숫자를 비교해서 몇 등인지 알려줌. \n",
    "#6개 맞으면 1등 5개 맞으면 2등 4개 맞으면 3등 3개 맞으면 4등 나머지 꽝"
   ]
  },
  {
   "cell_type": "code",
   "execution_count": 39,
   "metadata": {},
   "outputs": [
    {
     "name": "stdout",
     "output_type": "stream",
     "text": [
      "<class 'datetime.date'>\n",
      "2019-02-13\n",
      "연도:2019, 월: 2, 일:13\n"
     ]
    }
   ],
   "source": [
    "#8. 날짜 (date)\n",
    "from datetime import date,datetime\n",
    "\n",
    "#오늘 날짜 구하기\n",
    "today = date.today()\n",
    "print(type(today))\n",
    "print(today)\n",
    "print(\"연도:{}, 월: {}, 일:{}\".format(today.year, today.month, today.day))"
   ]
  },
  {
   "cell_type": "code",
   "execution_count": 40,
   "metadata": {},
   "outputs": [
    {
     "name": "stdout",
     "output_type": "stream",
     "text": [
      "2019-02-13 17:02:42.648496\n"
     ]
    }
   ],
   "source": [
    "#오늘 날짜와 시간\n",
    "today = datetime.today()\n",
    "print(today) "
   ]
  },
  {
   "cell_type": "code",
   "execution_count": 41,
   "metadata": {},
   "outputs": [
    {
     "name": "stdout",
     "output_type": "stream",
     "text": [
      "2019-02-12\n",
      "2019-02-13 10:02:43.332067\n"
     ]
    }
   ],
   "source": [
    "#날짜 연산\n",
    "from datetime import date, datetime, timedelta\n",
    "\n",
    "today = date.today()\n",
    "days = timedelta(days=-1) #날짜 기준 간격 값  \n",
    "print(today + days) #계산하면 하루 전\n",
    "\n",
    "today = datetime.today()\n",
    "hours = timedelta(hours=-7) #datetime시간 구하고, 기준값 hours, minutes, ..\n",
    "print(today + hours)\n",
    "\n",
    "#days, hours, minutes, seconds, weeks cf. years, months 없음. \n"
   ]
  },
  {
   "cell_type": "code",
   "execution_count": 42,
   "metadata": {},
   "outputs": [
    {
     "name": "stdout",
     "output_type": "stream",
     "text": [
      "2018-12-13\n",
      "현재 시각 : 2019-02-13 17:02:43.895933\n",
      "현재 시각 : 20190213\n"
     ]
    }
   ],
   "source": [
    "#년도, 개월 구하기 3월 31일의 한달 전을 계산하기 애매함. \n",
    "from dateutil.relativedelta import relativedelta\n",
    "today = date.today()\n",
    "months = relativedelta(months=-2)\n",
    "print(today + months)\n",
    "#3월 31일의 한달 전을 계산하기 애매함 답은 2월 28일이 나옴. 말일 계산은 복잡. \n",
    "\n",
    "#날짜 formatting\n",
    "from datetime import datetime\n",
    "\n",
    "today = datetime.today()\n",
    "print(\"현재 시각 : {}\".format(today))\n",
    "print(\"현재 시각 : {}\".format(today.strftime(\"%Y%m%d\")))"
   ]
  },
  {
   "cell_type": "code",
   "execution_count": 43,
   "metadata": {},
   "outputs": [
    {
     "name": "stdout",
     "output_type": "stream",
     "text": [
      "이것은 소리 없는,아우성\n"
     ]
    }
   ],
   "source": [
    "#print 함수의 특징\n",
    "print(\"이것은\", end=\" \")\n",
    "print(\"소리 없는\",end=\",\")\n",
    "print(\"아우성\")"
   ]
  }
 ],
 "metadata": {
  "kernelspec": {
   "display_name": "data_env",
   "language": "python",
   "name": "data_env"
  },
  "language_info": {
   "codemirror_mode": {
    "name": "ipython",
    "version": 3
   },
   "file_extension": ".py",
   "mimetype": "text/x-python",
   "name": "python",
   "nbconvert_exporter": "python",
   "pygments_lexer": "ipython3",
   "version": "3.6.8"
  }
 },
 "nbformat": 4,
 "nbformat_minor": 2
}
