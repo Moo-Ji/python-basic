{
 "cells": [
  {
   "cell_type": "code",
   "execution_count": 2,
   "metadata": {},
   "outputs": [
    {
     "name": "stdout",
     "output_type": "stream",
     "text": [
      "리스트의 총 합은: 29\n"
     ]
    }
   ],
   "source": [
    "my_list = [5, 8, 2, 4, 10]\n",
    "sum = 0\n",
    "for tmp in my_list:\n",
    "    sum += tmp\n",
    "    \n",
    "print(\"리스트의 총 합은: {}\".format(sum))"
   ]
  },
  {
   "cell_type": "code",
   "execution_count": 4,
   "metadata": {},
   "outputs": [
    {
     "name": "stdout",
     "output_type": "stream",
     "text": [
      "리스트의 총 합은: 29\n"
     ]
    }
   ],
   "source": [
    "my_list = [5, 8, 2, 4, 10]\n",
    "sum = 0\n",
    "for i in range(len(my_list)): #인덱스가 루프를 돔\n",
    "    sum += my_list[i]\n",
    "    \n",
    "print(\"리스트의 총 합은: {}\".format(sum))  "
   ]
  },
  {
   "cell_type": "code",
   "execution_count": 7,
   "metadata": {},
   "outputs": [
    {
     "name": "stdout",
     "output_type": "stream",
     "text": [
      "[4, 8, 12, 16]\n"
     ]
    }
   ],
   "source": [
    "my_list = [1,2,3,4,5,6,7,8,9]\n",
    "\n",
    "score1 = [ tmp*2 for tmp in my_list if tmp % 2 == 0] #for 과 조건을 걸 수 있음.\n",
    "print(score1)"
   ]
  },
  {
   "cell_type": "code",
   "execution_count": null,
   "metadata": {},
   "outputs": [],
   "source": []
  }
 ],
 "metadata": {
  "kernelspec": {
   "display_name": "data_env",
   "language": "python",
   "name": "data_env"
  },
  "language_info": {
   "codemirror_mode": {
    "name": "ipython",
    "version": 3
   },
   "file_extension": ".py",
   "mimetype": "text/x-python",
   "name": "python",
   "nbconvert_exporter": "python",
   "pygments_lexer": "ipython3",
   "version": "3.6.8"
  }
 },
 "nbformat": 4,
 "nbformat_minor": 2
}
