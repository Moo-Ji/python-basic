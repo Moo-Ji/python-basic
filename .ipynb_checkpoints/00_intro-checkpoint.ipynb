{
 "cells": [
  {
   "cell_type": "code",
   "execution_count": 2,
   "metadata": {},
   "outputs": [],
   "source": [
    "# cell 단축키\n",
    "# b :below 아래쪽에 새로운 셀을 생성한다. \n",
    "# a :above 위쪽에 새로운 셀을 생상한다. \n",
    "# dd : 현재 셀을 삭제\n",
    "# shift + enter : 현재 셀을 실행시키고, 아래에 새로운 셀을 생성한다. \n",
    "# #은 한줄 주석처리. "
   ]
  },
  {
   "cell_type": "code",
   "execution_count": 3,
   "metadata": {},
   "outputs": [
    {
     "name": "stdout",
     "output_type": "stream",
     "text": [
      "['False', 'None', 'True', 'and', 'as', 'assert', 'break', 'class', 'continue', 'def', 'del', 'elif', 'else', 'except', 'finally', 'for', 'from', 'global', 'if', 'import', 'in', 'is', 'lambda', 'nonlocal', 'not', 'or', 'pass', 'raise', 'return', 'try', 'while', 'with', 'yield']\n"
     ]
    }
   ],
   "source": [
    "# Python Keyword\n",
    "# 내장 모듈\n",
    "\n",
    "import keyword\n",
    "\n",
    "\n",
    "print(keyword.kwlist)\n",
    "\n",
    "# True, False 대소문자 구분\n",
    "# null 이 없고, None 사용"
   ]
  },
  {
   "cell_type": "code",
   "execution_count": 4,
   "metadata": {},
   "outputs": [
    {
     "data": {
      "text/plain": [
       "'\\n여기 안에 있는 내용은 \\n주석이다. \\n\\n'"
      ]
     },
     "execution_count": 4,
     "metadata": {},
     "output_type": "execute_result"
    }
   ],
   "source": [
    "# Python 주석 \n",
    "# 1줄 주석 #\n",
    "# 여러줄 주석 \"\"\"주석\"\"\", '''주석'''\n",
    "\n",
    "'''\n",
    "여기 안에 있는 내용은 \n",
    "주석이다. \n",
    "'''"
   ]
  },
  {
   "cell_type": "code",
   "execution_count": null,
   "metadata": {},
   "outputs": [],
   "source": [
    "# python은 weak data type 을 지향 \n",
    "# cf. Strong data type 인 Java.변수를 선언할 때 데이터 타입 엄격하게 유지.\n",
    "# 변수를 만들 때 데이터 타입을 지정하지 않아도 된다. \n",
    "# 기본형이 존재하지 않고 모두 객체형이다. \n",
    "\n",
    "a = 10\n",
    "a = \"Hello\"\n",
    "\n",
    "# int a 로 4byte 공간 확보. (-21억 ~+21억 값의 범위 정해짐. )\n",
    "# double b 로 8byte 공간 확보. "
   ]
  },
  {
   "cell_type": "code",
   "execution_count": null,
   "metadata": {},
   "outputs": [],
   "source": [
    "# python은 문자의 개념이 존재하지 않는다. 모두 문자열이다. '',\"\" 차이가 없다.\n",
    "# 다만, 섞어 쓰지는 말아라. \n",
    "\n",
    "a = 'hello world'\n",
    "b = \"Hello World\"\n",
    "a = b"
   ]
  },
  {
   "cell_type": "code",
   "execution_count": 5,
   "metadata": {},
   "outputs": [],
   "source": [
    "# 단항 증감 연산자(a++, a--)는 존재하지 않아. 대신 += 1 ,-=1\n",
    "\n",
    "a = 100\n",
    "a += 1\n",
    "a -= 2"
   ]
  },
  {
   "cell_type": "code",
   "execution_count": null,
   "metadata": {},
   "outputs": [],
   "source": [
    "# 여러 변수의 값을 쉽게 할당할 수 있다. \n",
    "\n",
    "a, b, c = 10, 20, 30\n",
    "\n",
    "# 데이터를 다루는데 특화된 언어이다. "
   ]
  },
  {
   "cell_type": "code",
   "execution_count": 8,
   "metadata": {},
   "outputs": [
    {
     "name": "stdout",
     "output_type": "stream",
     "text": [
      "20 10\n"
     ]
    }
   ],
   "source": [
    "# 변수의 swap 처리 (바꾸다. )\n",
    "\n",
    "a, b = 10, 20\n",
    "b, a = a, b\n",
    "print(a,b)\n",
    "\n",
    "# cf. 자바는 임시 값을 지정해서 바꿔야한다.  "
   ]
  },
  {
   "cell_type": "code",
   "execution_count": 9,
   "metadata": {},
   "outputs": [
    {
     "name": "stdout",
     "output_type": "stream",
     "text": [
      "100\n"
     ]
    },
    {
     "ename": "NameError",
     "evalue": "name 'a' is not defined",
     "output_type": "error",
     "traceback": [
      "\u001b[1;31m---------------------------------------------------------------------------\u001b[0m",
      "\u001b[1;31mNameError\u001b[0m                                 Traceback (most recent call last)",
      "\u001b[1;32m<ipython-input-9-b29e1cdb4422>\u001b[0m in \u001b[0;36m<module>\u001b[1;34m\u001b[0m\n\u001b[0;32m      3\u001b[0m \u001b[0mprint\u001b[0m\u001b[1;33m(\u001b[0m\u001b[0ma\u001b[0m\u001b[1;33m)\u001b[0m\u001b[1;33m\u001b[0m\u001b[1;33m\u001b[0m\u001b[0m\n\u001b[0;32m      4\u001b[0m \u001b[1;32mdel\u001b[0m \u001b[0ma\u001b[0m\u001b[1;33m\u001b[0m\u001b[1;33m\u001b[0m\u001b[0m\n\u001b[1;32m----> 5\u001b[1;33m \u001b[0mprint\u001b[0m\u001b[1;33m(\u001b[0m\u001b[0ma\u001b[0m\u001b[1;33m)\u001b[0m \u001b[1;31m#에러 발생.\u001b[0m\u001b[1;33m\u001b[0m\u001b[1;33m\u001b[0m\u001b[0m\n\u001b[0m",
      "\u001b[1;31mNameError\u001b[0m: name 'a' is not defined"
     ]
    }
   ],
   "source": [
    "# 변수 삭제 가능. \n",
    "\n",
    "a = 100\n",
    "\n",
    "print(a)\n",
    "\n",
    "del a\n",
    "\n",
    "print(a) #에러 발생. "
   ]
  },
  {
   "cell_type": "code",
   "execution_count": null,
   "metadata": {},
   "outputs": [],
   "source": []
  }
 ],
 "metadata": {
  "kernelspec": {
   "display_name": "Python 3",
   "language": "python",
   "name": "python3"
  },
  "language_info": {
   "codemirror_mode": {
    "name": "ipython",
    "version": 3
   },
   "file_extension": ".py",
   "mimetype": "text/x-python",
   "name": "python",
   "nbconvert_exporter": "python",
   "pygments_lexer": "ipython3",
   "version": "3.7.3"
  }
 },
 "nbformat": 4,
 "nbformat_minor": 2
}
