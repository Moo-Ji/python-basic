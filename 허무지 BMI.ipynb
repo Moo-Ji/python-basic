{
 "cells": [
  {
   "cell_type": "code",
   "execution_count": 1,
   "metadata": {},
   "outputs": [
    {
     "name": "stdout",
     "output_type": "stream",
     "text": [
      "94.6289\n",
      "11.31\n",
      "22.831493\n",
      "40.970554\n",
      "20.124432\n",
      "23.032497\n",
      "6.4102206\n",
      "20.207281\n",
      "21.862019\n",
      "22.667362\n",
      "0.68385\n",
      "normal\n"
     ]
    }
   ],
   "source": [
    "#bmi 예제 (multinomial classification)\n",
    "\n",
    "import tensorflow as tf\n",
    "import numpy as np\n",
    "import pandas as pd\n",
    "\n",
    "#1.Data loading\n",
    "data = pd.read_csv(\"./Data/Bmi/bmi.csv\", sep=\",\", skiprows=3)\n",
    "data = data.dropna(how=\"any\") # 결측값 제거\n",
    "df_x = data[[\"height\",\"weight\"]]\n",
    "df_y = data[\"label\"]\n",
    "df_y #=> 0,1,2 [1,0,0]  = 0\n",
    "\n",
    "y_data=tf.one_hot(df_y,3)\n",
    "sess=tf.Session()\n",
    "y_data=sess.run(y_data)\n",
    "\n",
    "\n",
    "\n",
    "#placeholder\n",
    "X=tf.placeholder(shape=[None,2], dtype=tf.float32)\n",
    "Y=tf.placeholder(shape=[None,3], dtype=tf.float32)\n",
    "\n",
    "\n",
    "#weight & bias\n",
    "W =tf.Variable(tf.random_normal([2,3]), name=\"weight\")\n",
    "b =tf.Variable(tf.random_normal([3]), name=\"bias\")\n",
    "\n",
    "#Hypothesis\n",
    "logit = tf.matmul(X,W)+b\n",
    "H = tf.nn.softmax(logit)\n",
    "\n",
    "#Cost(Loss) function\n",
    "cost = tf.reduce_mean(tf.nn.softmax_cross_entropy_with_logits_v2(logits=logit, labels=Y))\n",
    "\n",
    "#train\n",
    "train = tf.train.GradientDescentOptimizer(learning_rate=0.01).minimize(cost)   #w값을 얼마만큼 줄여나가는 가\n",
    "\n",
    "#session & 초기화\n",
    "sess = tf.Session()\n",
    "sess.run(tf.global_variables_initializer())\n",
    "\n",
    "#학습\n",
    "for step in range(3000):         #데이터가 작으니 많이 돌릴 수 있음'ㅅ'\n",
    "    _, cost_val = sess.run([train,cost], feed_dict={X:df_x,Y:y_data})\n",
    "    if step % 300 == 0:\n",
    "        print(cost_val)\n",
    "\n",
    "#Accuracy\n",
    "#predict = H\n",
    "#H => [[0.3  0.6  0.1]] 형태로 나타남\n",
    "\n",
    "predict = tf.argmax(H,1)        #가장 큰 값의 인덱스를 알려줌\n",
    "correct = tf.equal(predict, tf.argmax(Y,1))\n",
    "accuracy = tf.reduce_mean(tf.cast(correct, dtype=tf.float32))\n",
    "print(sess.run(accuracy,feed_dict={X:df_x,Y:y_data}) )\n",
    "\n",
    "#예측\n",
    "result=sess.run(predict, feed_dict={X:[[195,70]]})\n",
    "if result[0] == 0:\n",
    "    print(\"thin\")\n",
    "elif result[0] == 1:\n",
    "    print(\"normal\")\n",
    "else:\n",
    "    print(\"fat\")\n",
    "    "
   ]
  },
  {
   "cell_type": "code",
   "execution_count": null,
   "metadata": {},
   "outputs": [],
   "source": []
  }
 ],
 "metadata": {
  "kernelspec": {
   "display_name": "data_env",
   "language": "python",
   "name": "data_env"
  },
  "language_info": {
   "codemirror_mode": {
    "name": "ipython",
    "version": 3
   },
   "file_extension": ".py",
   "mimetype": "text/x-python",
   "name": "python",
   "nbconvert_exporter": "python",
   "pygments_lexer": "ipython3",
   "version": "3.6.8"
  }
 },
 "nbformat": 4,
 "nbformat_minor": 2
}
