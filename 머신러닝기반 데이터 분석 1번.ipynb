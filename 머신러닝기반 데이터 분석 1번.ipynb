{
 "cells": [
  {
   "cell_type": "code",
   "execution_count": null,
   "metadata": {},
   "outputs": [],
   "source": [
    "'''\n",
    "문제1 ) simple linear regression\n",
    "온도에 따른 ozone량 예측하는 프로그램을 TensorFlow를 이용하여 작성한다.\n",
    "제공된 CSV 파일로 부터 온도와 온도에 따른 ozone량 데이터를 loading후 학습과정을 진행하고 \n",
    "특정 온도(화씨 62도)에 따른 ozone량을 예측한다.\n",
    "'''"
   ]
  },
  {
   "cell_type": "code",
   "execution_count": 6,
   "metadata": {},
   "outputs": [
    {
     "name": "stdout",
     "output_type": "stream",
     "text": [
      "cost:1.2492084503173828\n",
      "cost:0.033685240894556046\n",
      "cost:0.028143201023340225\n",
      "cost:0.024869868531823158\n",
      "cost:0.02293645404279232\n",
      "cost:0.021794460713863373\n",
      "cost:0.021119922399520874\n",
      "cost:0.02072150446474552\n",
      "cost:0.020486176013946533\n",
      "cost:0.020347176119685173\n"
     ]
    },
    {
     "data": {
      "image/png": "[encoded data removed]",
      "text/plain": [
       "<Figure size 432x288 with 1 Axes>"
      ]
     },
     "metadata": {
      "needs_background": "light"
     },
     "output_type": "display_data"
    },
    {
     "name": "stdout",
     "output_type": "stream",
     "text": [
      "온도(화씨 62도)에 따른 ozone량은 [38.9701]입니다.\n"
     ]
    }
   ],
   "source": [
    "##Ozone data를 이용한 linear regression\n",
    "\n",
    "import tensorflow as tf\n",
    "import pandas as pd\n",
    "import numpy as np\n",
    "import matplotlib\n",
    "import matplotlib.pyplot as plt\n",
    "\n",
    "##1. Data Loading\n",
    "data0 = pd.read_csv(\"./Data/Ozone/ozone.csv\", sep = \",\")\n",
    "\n",
    "#2. Training dataset\n",
    "data=data0.dropna(how = \"any\", inplace = False)\n",
    "x_data = pd.DataFrame(data, columns = [\"Temp\"])\n",
    "x_data = (x_data - x_data.min())/(x_data.max() - x_data.min())\n",
    "\n",
    "y_data = pd.DataFrame(data, columns = [\"Ozone\"])\n",
    "y_data = (y_data - y_data.min())/(y_data.max() - y_data.min())\n",
    "\n",
    "plt.scatter(x_data,y_data)\n",
    "#이상치 변형 필요\n",
    "#3. placeholder\n",
    "X = tf.placeholder(dtype = tf.float32)\n",
    "Y = tf.placeholder(dtype = tf.float32)\n",
    "\n",
    "#4. Weight &bias\n",
    "W = tf.Variable(tf.random_normal([1]), name = \"weight\")\n",
    "b = tf.Variable(tf.random_normal([1]), name = \"bias\")\n",
    "\n",
    "#5. Hypothesis\n",
    "H = W*X + b\n",
    "\n",
    "#6. cost function\n",
    "cost = tf.reduce_mean(tf.square(H-Y))\n",
    "\n",
    "#7. train\n",
    "train = tf.train.GradientDescentOptimizer(learning_rate = 0.01).minimize(cost)\n",
    "\n",
    "#8. session, 초기화\n",
    "sess = tf.Session()\n",
    "sess.run(tf.global_variables_initializer())\n",
    "\n",
    "#9. 학습 W와 b값을 조정해가는 과정\n",
    "for step in range(3000):\n",
    "    _,cost_val = sess.run([train,cost],feed_dict = {X:x_data, Y:y_data})\n",
    "    if step % 300 == 0:\n",
    "        print(\"cost:{}\".format(cost_val))\n",
    "              \n",
    "#10.Prediction\n",
    "result = sess.run(H,feed_dict ={X:62})\n",
    "\n",
    "\n",
    "x_line = np.arange(0.0,1.0,0.1)\n",
    "y_line = np.array([sess.run(W)*t+sess.run(b) for t in x_line])\n",
    "plt.plot(x_line, y_line,\"r\")\n",
    "plt.show()\n",
    "print(\"온도(화씨 62도)에 따른 ozone량은 {}입니다.\".format(result))"
   ]
  },
  {
   "cell_type": "code",
   "execution_count": null,
   "metadata": {},
   "outputs": [],
   "source": []
  }
 ],
 "metadata": {
  "kernelspec": {
   "display_name": "data_env",
   "language": "python",
   "name": "data_env"
  },
  "language_info": {
   "codemirror_mode": {
    "name": "ipython",
    "version": 3
   },
   "file_extension": ".py",
   "mimetype": "text/x-python",
   "name": "python",
   "nbconvert_exporter": "python",
   "pygments_lexer": "ipython3",
   "version": "3.6.8"
  }
 },
 "nbformat": 4,
 "nbformat_minor": 2
}
