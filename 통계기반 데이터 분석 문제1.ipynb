{
 "cells": [
  {
   "cell_type": "code",
   "execution_count": 1,
   "metadata": {},
   "outputs": [
    {
     "data": {
      "text/plain": [
       "'\\n문제 1) 다음과 같은 내용을 이용하여 통계적 가설 검정을 수행하세요\\n어떤 회사 A의 지난 해 평균 월급은 150만원이고, 표준편차는 12만원이다. \\n올해는 임금이 인상되어 그보다 높을 것이라 예상되어 \\n임의의 직원 100명을 뽑아 평균을 조사했더니 152만원 이었다.\\n이 때, 올해 평균 월급이 150만원보다 높다고 할 수 있는가?\\n( 유의 수준 0.05에서 결정하세요 )\\n실행결과예) 올해 평균 월급은 지난해보다 높다.\\n'"
      ]
     },
     "execution_count": 1,
     "metadata": {},
     "output_type": "execute_result"
    }
   ],
   "source": [
    "'''\n",
    "문제 1) 다음과 같은 내용을 이용하여 통계적 가설 검정을 수행하세요\n",
    "어떤 회사 A의 지난 해 평균 월급은 150만원이고, 표준편차는 12만원이다. \n",
    "올해는 임금이 인상되어 그보다 높을 것이라 예상되어 \n",
    "임의의 직원 100명을 뽑아 평균을 조사했더니 152만원 이었다.\n",
    "이 때, 올해 평균 월급이 150만원보다 높다고 할 수 있는가?\n",
    "( 유의 수준 0.05에서 결정하세요 )\n",
    "실행결과예) 올해 평균 월급은 지난해보다 높다.\n",
    "'''"
   ]
  },
  {
   "cell_type": "code",
   "execution_count": 3,
   "metadata": {},
   "outputs": [
    {
     "name": "stdout",
     "output_type": "stream",
     "text": [
      "올해가 지난해보다 더 높다. \n"
     ]
    }
   ],
   "source": [
    "H0 = \"작년과 올해의 월급이 같다. \" #귀무가설\n",
    "H1 = \"올해가 지난해보다 더 높다. \" #대립가설\n",
    "\n",
    "import numpy as np\n",
    "\n",
    "last_year_mean = 150 #지난 해 평균 월급\n",
    "last_year_std = 12#지난 해 월급의 표준 편차\n",
    "sample_mean = 152 #표본의 월급 평균\n",
    "num_of_sample = 100 # 표본 개수\n",
    "\n",
    "z = 1.64 #표준정규분포표를 참고해 유의수준 0.05의 z 값 확인\n",
    "\n",
    "CV = z * (last_year_std / np.sqrt(num_of_sample)) + last_year_mean\n",
    "\n",
    "if last_year_mean >= CV:\n",
    "    print(H0)\n",
    "else:\n",
    "    print(H1)"
   ]
  },
  {
   "cell_type": "code",
   "execution_count": null,
   "metadata": {},
   "outputs": [],
   "source": []
  }
 ],
 "metadata": {
  "kernelspec": {
   "display_name": "Python 3",
   "language": "python",
   "name": "python3"
  },
  "language_info": {
   "codemirror_mode": {
    "name": "ipython",
    "version": 3
   },
   "file_extension": ".py",
   "mimetype": "text/x-python",
   "name": "python",
   "nbconvert_exporter": "python",
   "pygments_lexer": "ipython3",
   "version": "3.6.8"
  }
 },
 "nbformat": 4,
 "nbformat_minor": 2
}
