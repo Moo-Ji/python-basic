{
 "cells": [
  {
   "cell_type": "code",
   "execution_count": 38,
   "metadata": {},
   "outputs": [
    {
     "name": "stdout",
     "output_type": "stream",
     "text": [
      "[[0], [0], [0], [1]]\n",
      "cost:0.8683657646179199\n",
      "cost:0.7363697290420532\n",
      "cost:0.6416307687759399\n",
      "cost:0.5693009495735168\n",
      "cost:0.5120550394058228\n",
      "cost:0.4658443331718445\n",
      "cost:0.4279533624649048\n",
      "cost:0.3964155614376068\n",
      "cost:0.36978262662887573\n",
      "cost:0.34698286652565\n",
      "정확도 =1.0\n"
     ]
    }
   ],
   "source": [
    "import tensorflow as tf\n",
    "import numpy as np\n",
    "import pandas as pd\n",
    "import warnings\n",
    "\n",
    "\n",
    "#and 연산 \n",
    "\n",
    "x_anddata= [[0,0],\n",
    "            [0,1],\n",
    "            [1,0],\n",
    "            [1,1]]\n",
    "y_anddata=[[0],[0],[0],[1]]\n",
    "\n",
    "print(y_anddata)\n",
    "\n",
    "X = tf.placeholder(shape=[None,2],dtype = tf.float32  ) #행 숫자는 무상관\n",
    "Y = tf.placeholder(shape=[None,1],dtype = tf.float32  )\n",
    "\n",
    "W= tf.Variable(tf.random_normal([2,1]), name=\"weight\"  )\n",
    "b= tf.Variable(tf.random_normal([1]),name=\"bias\")\n",
    "\n",
    "logit = tf.matmul(X,W)+b\n",
    "\n",
    "H=tf.sigmoid(logit)\n",
    "\n",
    "cost = tf.reduce_mean(tf.nn.sigmoid_cross_entropy_with_logits( logits=logit , labels=Y ))\n",
    "\n",
    "train = tf.train.GradientDescentOptimizer(learning_rate=0.01).minimize(cost)\n",
    "\n",
    "sess = tf.Session()\n",
    "\n",
    "sess.run(tf.global_variables_initializer())\n",
    "\n",
    "for step in range(3000):\n",
    "    _,cost_val = sess.run([train,cost], feed_dict={X:x_anddata,Y:y_anddata} )\n",
    "    if step%300 == 0 :\n",
    "        print(\"cost:{}\".format(cost_val))\n",
    "\n",
    "predict = tf.cast(H>0.5 ,dtype=tf.float32) #원래는 정수를 실수로 , 실수를 정수로 바꿔주는 cast 타입변환 1.0 0.0 으로 변환인듯?\n",
    "                                            #0.5보다 크면 1로 떨어짐\n",
    "correct = tf.equal(predict,Y) #실데이터와 예측한 것을 비교하는것 \n",
    "\n",
    "accuracy = tf.reduce_mean(tf.cast(correct , dtype=tf.float32))\n",
    "\n",
    "print(\"정확도 ={}\".format(sess.run(accuracy ,feed_dict={X:x_anddata,Y:y_anddata} ) ))\n",
    "        \n",
    "\n",
    "    "
   ]
  },
  {
   "cell_type": "code",
   "execution_count": 36,
   "metadata": {},
   "outputs": [
    {
     "name": "stdout",
     "output_type": "stream",
     "text": [
      "cost:1.0892237424850464\n",
      "cost:0.4561227858066559\n",
      "cost:0.3649575710296631\n",
      "cost:0.3002222180366516\n",
      "cost:0.2526487112045288\n",
      "cost:0.21667805314064026\n",
      "cost:0.18879032135009766\n",
      "cost:0.16667824983596802\n",
      "cost:0.14879125356674194\n",
      "cost:0.13406476378440857\n",
      "정확도 =1.0\n"
     ]
    }
   ],
   "source": [
    "#multiple layer 를 이용해 kor 문제 해결 (2개이사의 레이어)\n",
    "\n",
    "\n",
    "import tensorflow as tf\n",
    "import numpy as np\n",
    "import pandas as pd\n",
    "import warnings\n",
    "\n",
    "\n",
    "x_data= [[0,0],\n",
    "        [0,1],\n",
    "        [1,0],\n",
    "        [1,1]]\n",
    "y_data=[[0],[0],[0],[1]]\n",
    "\n",
    "X = tf.placeholder(shape=[None,2],dtype = tf.float32  ) #행 숫자는 무상관\n",
    "Y = tf.placeholder(shape=[None,1],dtype = tf.float32  )\n",
    "\n",
    "\n",
    "W1= tf.Variable(tf.random_normal([2,20]), name=\"weight1\"  ) # \n",
    "b1= tf.Variable(tf.random_normal([20]),name=\"bias1\")\n",
    "\n",
    "layer1 = tf.sigmoid(tf.matmul(X,W1)+b1)\n",
    "\n",
    "W2=tf.Variable(tf.random_normal([20,1]), name=\"weight1\"  )\n",
    "b2=tf.Variable(tf.random_normal([1]),name=\"bias1\")\n",
    "\n",
    "logit=tf.matmul(layer1,W2)+b2\n",
    "h=tf.sigmoid(logit)\n",
    "\n",
    "cost = tf.reduce_mean(tf.nn.sigmoid_cross_entropy_with_logits(logits=logit,labels=Y ))\n",
    "\n",
    "train = tf.train.GradientDescentOptimizer(learning_rate=0.01).minimize(cost)\n",
    "#print(cost)\n",
    "\n",
    "#세션 초기화 -> 런을 만들고 초기화\n",
    "sess=tf.Session()\n",
    "sess.run(tf.global_variables_initializer())\n",
    "\n",
    "#학습\n",
    "\n",
    "for step in range(3000):\n",
    "    _,cost_val = sess.run([train,cost], feed_dict={X:x_data , Y:y_data})\n",
    "    \n",
    "    if step%300==0 :\n",
    "        print(\"cost:{}\".format(cost_val))\n",
    "\n",
    "\n",
    "\n",
    "        \n",
    "#accuracy 예측값을 알아내는것 \n",
    "predict = tf.cast(h>0.5 ,dtype=tf.float32) #원래는 정수를 실수로 , 실수를 정수로 바꿔주는 cast 타입변환 1.0 0.0 으로 변환인듯?\n",
    "                                            #0.5보다 크면 1로 떨어짐\n",
    "correct = tf.equal(predict,Y) #실데이터와 예측한 것을 비교하는것 \n",
    "\n",
    "accuracy = tf.reduce_mean(tf.cast(correct , dtype=tf.float32))\n",
    "\n",
    "\n",
    "print(\"정확도 ={}\".format(sess.run(accuracy ,feed_dict={X:x_data,Y:y_data} ) ))\n",
    "\n",
    "# W= tf.Variable([[5,-7],[5,-7]], name=\"weight\"  )\n",
    "# b= tf.Variable([[-8,3]] ,name=\"bias\")\n",
    "\n"
   ]
  },
  {
   "cell_type": "code",
   "execution_count": null,
   "metadata": {},
   "outputs": [],
   "source": []
  },
  {
   "cell_type": "code",
   "execution_count": null,
   "metadata": {},
   "outputs": [],
   "source": []
  },
  {
   "cell_type": "code",
   "execution_count": null,
   "metadata": {},
   "outputs": [],
   "source": []
  },
  {
   "cell_type": "code",
   "execution_count": null,
   "metadata": {},
   "outputs": [],
   "source": []
  },
  {
   "cell_type": "code",
   "execution_count": null,
   "metadata": {},
   "outputs": [],
   "source": []
  },
  {
   "cell_type": "code",
   "execution_count": null,
   "metadata": {},
   "outputs": [],
   "source": []
  },
  {
   "cell_type": "code",
   "execution_count": null,
   "metadata": {},
   "outputs": [],
   "source": []
  },
  {
   "cell_type": "code",
   "execution_count": null,
   "metadata": {},
   "outputs": [],
   "source": []
  }
 ],
 "metadata": {
  "kernelspec": {
   "display_name": "data_env",
   "language": "python",
   "name": "data_env"
  },
  "language_info": {
   "codemirror_mode": {
    "name": "ipython",
    "version": 3
   },
   "file_extension": ".py",
   "mimetype": "text/x-python",
   "name": "python",
   "nbconvert_exporter": "python",
   "pygments_lexer": "ipython3",
   "version": "3.6.8"
  }
 },
 "nbformat": 4,
 "nbformat_minor": 2
}
